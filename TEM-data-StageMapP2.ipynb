{
 "cells": [
  {
   "cell_type": "code",
   "execution_count": null,
   "id": "fbb7fb67",
   "metadata": {},
   "outputs": [],
   "source": [
    "%matplotlib notebook"
   ]
  },
  {
   "cell_type": "code",
   "execution_count": null,
   "id": "01d264f7",
   "metadata": {},
   "outputs": [],
   "source": [
    "import hyperspy.api as hs\n",
    "from stemutils.io import *\n",
    "from stemutils.visualise import *"
   ]
  },
  {
   "cell_type": "code",
   "execution_count": null,
   "id": "6d49f477",
   "metadata": {},
   "outputs": [],
   "source": [
    "import h5py as h5\n",
    "def get_stage_pos_from_hdf(fp):\n",
    "    md = h5.File(fp, 'r')\n",
    "    return np.array((md['metadata']['x_pos(m)'][()], md['metadata']['y_pos(m)'][()]))\n",
    "\n",
    "def get_img_stage_coords(img):\n",
    "    x = img.original_metadata['ImageList']['TagGroup0']['ImageTags']['Microscope Info']['Stage Position']['Stage X']\n",
    "    y = img.original_metadata['ImageList']['TagGroup0']['ImageTags']['Microscope Info']['Stage Position']['Stage Y']\n",
    "    return [x,y]\n",
    "\n",
    "def prep_coord_array(arr):\n",
    "    return np.pad(arr, ((0,0),(0,1)), mode = 'constant', constant_values = 0.0)\n",
    "def regress_coord_affine_transform(primary, secondary):  \n",
    "    primary = prep_coord_array(primary)\n",
    "    secondary = prep_coord_array(secondary)\n",
    "    n = primary.shape[0]\n",
    "    pad = lambda x: np.hstack([x, np.ones((x.shape[0], 1))])\n",
    "    unpad = lambda x: x[:,:-1]\n",
    "    X = pad(primary)\n",
    "    Y = pad(secondary)\n",
    "\n",
    "    # Solve the least squares problem X * A = Y\n",
    "    # to find our transformation matrix A\n",
    "    A, res, rank, s = np.linalg.lstsq(X, Y)\n",
    "\n",
    "    transform = lambda x: unpad(np.dot(pad(x), A))\n",
    "    \n",
    "    return transform, (A,res,rank)"
   ]
  },
  {
   "cell_type": "code",
   "execution_count": null,
   "id": "24f0e02b",
   "metadata": {},
   "outputs": [],
   "source": [
    "root_dir = Path('/dls/e02/data/2022/nt32759-1/raw/low_MAG_P2/')"
   ]
  },
  {
   "cell_type": "code",
   "execution_count": null,
   "id": "39e4f44c",
   "metadata": {},
   "outputs": [],
   "source": [
    "root_dir.walk('dm3')"
   ]
  },
  {
   "cell_type": "markdown",
   "id": "ca2fca8c",
   "metadata": {},
   "source": [
    "## OneView Calibration"
   ]
  },
  {
   "cell_type": "markdown",
   "id": "e78f7c2e",
   "metadata": {},
   "source": [
    "First thing I am doing is using some higher mag images, with particles I'll be able to find in the low mag image to calibrate a coordinate transform (this transform will convert the coordinates in the metadata into coordinates within the low mag image)"
   ]
  },
  {
   "cell_type": "code",
   "execution_count": null,
   "id": "789504d2",
   "metadata": {},
   "outputs": [],
   "source": [
    "low_mag_img_paths = root_dir.walk('34.dm3')"
   ]
  },
  {
   "cell_type": "code",
   "execution_count": null,
   "id": "bdf161ae",
   "metadata": {},
   "outputs": [],
   "source": [
    "low_mag_img_paths"
   ]
  },
  {
   "cell_type": "code",
   "execution_count": null,
   "id": "c92d0c91",
   "metadata": {},
   "outputs": [],
   "source": [
    "low_mag_img = hs.load(low_mag_img_paths[0])"
   ]
  },
  {
   "cell_type": "code",
   "execution_count": null,
   "id": "f8f6a54e",
   "metadata": {},
   "outputs": [],
   "source": [
    "low_mag_img.plot()"
   ]
  },
  {
   "cell_type": "code",
   "execution_count": null,
   "id": "47277a87",
   "metadata": {},
   "outputs": [],
   "source": [
    "low_mag_img1 = hs.load(root_dir.walk('44.dm3')[0])\n",
    "\n",
    "low_mag_img1.plot()"
   ]
  },
  {
   "cell_type": "code",
   "execution_count": null,
   "id": "415607fe",
   "metadata": {},
   "outputs": [],
   "source": [
    "low_mag_img2 = hs.load(root_dir.walk('40.dm3')[0])"
   ]
  },
  {
   "cell_type": "code",
   "execution_count": null,
   "id": "08f89ff9",
   "metadata": {},
   "outputs": [],
   "source": [
    "low_mag_img2.plot()"
   ]
  },
  {
   "cell_type": "code",
   "execution_count": null,
   "id": "7b72fc23",
   "metadata": {},
   "outputs": [],
   "source": [
    "low_mag_img3 = hs.load(root_dir.walk('37.dm3')[0])\n",
    "\n",
    "low_mag_img3.plot()"
   ]
  },
  {
   "cell_type": "code",
   "execution_count": null,
   "id": "625b2b2a",
   "metadata": {},
   "outputs": [],
   "source": [
    "low_mag_img4 = hs.load(root_dir.walk('52.dm3')[0])\n",
    "\n",
    "low_mag_img4.plot()"
   ]
  },
  {
   "cell_type": "code",
   "execution_count": null,
   "id": "3efd1437",
   "metadata": {},
   "outputs": [],
   "source": [
    "low_mag_img5 = hs.load(root_dir.walk('60.dm3')[0])\n",
    "\n",
    "low_mag_img5.plot()"
   ]
  },
  {
   "cell_type": "code",
   "execution_count": null,
   "id": "c7854cf5",
   "metadata": {},
   "outputs": [],
   "source": [
    "low_mag_img6 = hs.load(root_dir.walk('31.dm3')[0])\n",
    "\n",
    "low_mag_img6.plot()"
   ]
  },
  {
   "cell_type": "markdown",
   "id": "ec97f819",
   "metadata": {},
   "source": [
    "Here we pull the stage coordinates out of the dm3 metadata for the images of interest"
   ]
  },
  {
   "cell_type": "code",
   "execution_count": null,
   "id": "99c72b46",
   "metadata": {},
   "outputs": [],
   "source": [
    "img_find_coord = get_img_stage_coords(low_mag_img)\n",
    "img1_coord = get_img_stage_coords(low_mag_img1)\n",
    "img2_coord = get_img_stage_coords(low_mag_img2)\n",
    "img3_coord = get_img_stage_coords(low_mag_img3)\n",
    "img4_coord = get_img_stage_coords(low_mag_img4)\n",
    "img5_coord = get_img_stage_coords(low_mag_img5)\n",
    "img6_coord = get_img_stage_coords(low_mag_img6)"
   ]
  },
  {
   "cell_type": "markdown",
   "id": "a6b7005c",
   "metadata": {},
   "source": [
    "... and for all the images"
   ]
  },
  {
   "cell_type": "code",
   "execution_count": null,
   "id": "8913b05f",
   "metadata": {},
   "outputs": [],
   "source": [
    "imgs = []\n",
    "stage_coords = []\n",
    "\n",
    "\n",
    "for im_path in root_dir.walk('.dm3'):\n",
    "    img = hs.load(im_path)\n",
    "    imgs.append(img)\n",
    "    stage_coords.append(get_img_stage_coords(img))"
   ]
  },
  {
   "cell_type": "markdown",
   "id": "1e8e6532",
   "metadata": {},
   "source": [
    "We can then view the distribution of stage coordinates "
   ]
  },
  {
   "cell_type": "code",
   "execution_count": null,
   "id": "e6324b3e",
   "metadata": {},
   "outputs": [],
   "source": [
    "plt.figure()\n",
    "for coords in stage_coords:\n",
    "    plt.scatter(coords[0], coords[1], c='green')\n",
    "    \n",
    "\n",
    "plt.scatter(img_find_coord[0], img_find_coord[1], c='red')\n",
    "plt.scatter(img1_coord[0], img1_coord[1], c='blue')\n",
    "plt.scatter(img2_coord[0], img2_coord[1], c='navy')\n",
    "plt.scatter(img3_coord[0], img3_coord[1], c='orange')\n",
    "plt.scatter(img4_coord[0], img4_coord[1], c='purple')\n",
    "plt.scatter(img5_coord[0], img5_coord[1], c='pink')\n",
    "plt.scatter(img6_coord[0], img6_coord[1], c='yellow')"
   ]
  },
  {
   "cell_type": "markdown",
   "id": "414fa903",
   "metadata": {},
   "source": [
    "Now the manual part, need to find the location of the dm3 images in the low mag image and save these coordinates"
   ]
  },
  {
   "cell_type": "code",
   "execution_count": null,
   "id": "8cf2d623",
   "metadata": {},
   "outputs": [],
   "source": [
    "stage_img_path = Path('/dls/science/groups/imaging/ePSIC_students/Andy_Bridger/I08LowMag/I08LowMag/P2_highermag/fullstage.jpg')"
   ]
  },
  {
   "cell_type": "code",
   "execution_count": null,
   "id": "ff4c3799",
   "metadata": {},
   "outputs": [],
   "source": [
    "import cv2"
   ]
  },
  {
   "cell_type": "code",
   "execution_count": null,
   "id": "04646374",
   "metadata": {},
   "outputs": [],
   "source": [
    "stage_img = cv2.imread(str(stage_img_path))"
   ]
  },
  {
   "cell_type": "code",
   "execution_count": null,
   "id": "90d11b01",
   "metadata": {},
   "outputs": [],
   "source": [
    "plt.figure(figsize = (10,10))\n",
    "plt.imshow(stage_img)"
   ]
  },
  {
   "cell_type": "code",
   "execution_count": null,
   "id": "a93645f3",
   "metadata": {},
   "outputs": [],
   "source": [
    "full_fov_img_find = [2564.,2055.8]\n",
    "full_fov_img1 = [2592.3,2025.6]\n",
    "full_fov_img2 = [2565.6,2160.6]\n",
    "full_fov_img3 = [2555.9,2098.3]\n",
    "full_fov_img4 = [2682.7,2051.8]\n",
    "full_fov_img5 = [2532.3,2046.0]\n",
    "full_fov_img6 = [2839.6,1063.6]"
   ]
  },
  {
   "cell_type": "code",
   "execution_count": null,
   "id": "e91c844a",
   "metadata": {},
   "outputs": [],
   "source": [
    "plt.figure(figsize = (10,10))\n",
    "plt.imshow(stage_img)\n",
    "plt.scatter(full_fov_img_find[0], full_fov_img_find[1], c='red')\n",
    "plt.scatter(full_fov_img1[0], full_fov_img1[1], c='blue')\n",
    "plt.scatter(full_fov_img2[0], full_fov_img2[1], c='navy')\n",
    "plt.scatter(full_fov_img3[0], full_fov_img3[1], c='orange')\n",
    "plt.scatter(full_fov_img4[0], full_fov_img4[1], c='purple')\n",
    "plt.scatter(full_fov_img5[0], full_fov_img5[1], c='pink')\n",
    "plt.scatter(full_fov_img6[0], full_fov_img6[1], c='yellow')"
   ]
  },
  {
   "cell_type": "code",
   "execution_count": null,
   "id": "91426c0e",
   "metadata": {},
   "outputs": [],
   "source": []
  },
  {
   "cell_type": "markdown",
   "id": "91a44b7a",
   "metadata": {},
   "source": [
    "We get arrays of the stage space and image space coordinates, taking care to ensure the sets of coordinates are in the same order for both"
   ]
  },
  {
   "cell_type": "code",
   "execution_count": null,
   "id": "8e34af07",
   "metadata": {},
   "outputs": [],
   "source": [
    "stage_space_coords = np.asarray([img_find_coord,img1_coord, img2_coord, img3_coord, img4_coord, img5_coord, img6_coord])\n",
    "img_space_coords = np.asarray([full_fov_img_find,full_fov_img1, full_fov_img2, full_fov_img3, full_fov_img4, full_fov_img5, full_fov_img6])"
   ]
  },
  {
   "cell_type": "markdown",
   "id": "272e4f91",
   "metadata": {},
   "source": [
    "Use `regress_coord_affine_transform` to use least squares regression to fit an affine transform between the two coordinate systems"
   ]
  },
  {
   "cell_type": "code",
   "execution_count": null,
   "id": "baf77b55",
   "metadata": {},
   "outputs": [],
   "source": [
    "transform, _ = regress_coord_affine_transform(stage_space_coords, img_space_coords)"
   ]
  },
  {
   "cell_type": "markdown",
   "id": "8477aecd",
   "metadata": {},
   "source": [
    "need to use `prep_coord_array` before using `transform` but then will get all the OneView acquisition coords in image space"
   ]
  },
  {
   "cell_type": "code",
   "execution_count": null,
   "id": "bcca4897",
   "metadata": {},
   "outputs": [],
   "source": [
    "all_stage_coords  = prep_coord_array(np.asarray(stage_coords))\n",
    "all_img_coords = transform(all_stage_coords)"
   ]
  },
  {
   "cell_type": "code",
   "execution_count": null,
   "id": "0cfd1293",
   "metadata": {
    "scrolled": false
   },
   "outputs": [],
   "source": [
    "plt.figure(figsize = (10,10))\n",
    "plt.imshow(stage_img)\n",
    "\n",
    "plt.scatter(full_fov_img_find[0], full_fov_img_find[1], c='red')\n",
    "plt.scatter(full_fov_img1[0], full_fov_img1[1], c='blue')\n",
    "plt.scatter(full_fov_img2[0], full_fov_img2[1], c='navy')\n",
    "plt.scatter(full_fov_img3[0], full_fov_img3[1], c='orange')\n",
    "plt.scatter(full_fov_img4[0], full_fov_img4[1], c='purple')\n",
    "\n",
    "for ind, trans_im_coord in enumerate(all_img_coords):\n",
    "    oneview_num = root_dir.walk('.dm3')[ind].parts[-1].split('.')[0].split('_')[-1]\n",
    "    \n",
    "    plt.scatter(trans_im_coord[0], trans_im_coord[1], c='green', alpha = 0.9)\n",
    "    plt.annotate(oneview_num, (trans_im_coord[0], trans_im_coord[1]), c = 'red')"
   ]
  },
  {
   "cell_type": "code",
   "execution_count": null,
   "id": "f65d8cca",
   "metadata": {},
   "outputs": [],
   "source": [
    "one_stage_sig = hs.signals.Signal2D(np.linalg.norm(stage_img, axis = -1))"
   ]
  },
  {
   "cell_type": "markdown",
   "id": "fb2072da",
   "metadata": {},
   "source": [
    "Finally use hyperspy permanent markers to save the locations into a hdf5 file "
   ]
  },
  {
   "cell_type": "code",
   "execution_count": null,
   "id": "904df5c4",
   "metadata": {},
   "outputs": [],
   "source": [
    "for ind, trans_im_coord in enumerate(all_img_coords):\n",
    "    oneview_num = root_dir.walk('.dm3')[ind].parts[-1].split('.')[0].split('_')[-1]\n",
    "    \n",
    "    pm = hs.plot.markers.point(trans_im_coord[0], trans_im_coord[1], color='green')\n",
    "    tm = hs.plot.markers.text(trans_im_coord[0], trans_im_coord[1], oneview_num, color = 'red', ha='center')\n",
    "    \n",
    "    one_stage_sig.add_marker(pm, permanent=True)\n",
    "    one_stage_sig.add_marker(tm, permanent=True)"
   ]
  },
  {
   "cell_type": "code",
   "execution_count": null,
   "id": "0f8e8a16",
   "metadata": {},
   "outputs": [],
   "source": [
    "one_stage_sig.save('/dls/e02/data/2022/nt32759-1/processing/Merlin/AnnotatedMaps/P2_Oneviews.hdf5')"
   ]
  },
  {
   "cell_type": "code",
   "execution_count": null,
   "id": "4daa3bfe",
   "metadata": {},
   "outputs": [],
   "source": []
  },
  {
   "cell_type": "markdown",
   "id": "471e332f",
   "metadata": {},
   "source": [
    "## SEND acquisition calibration"
   ]
  },
  {
   "cell_type": "markdown",
   "id": "e2aee690",
   "metadata": {},
   "source": [
    "Now repeat essentially the same process for the SEND datasets, except this time it will be harder to find the correct particles so will probably have to use the OneView as an intermediate"
   ]
  },
  {
   "cell_type": "code",
   "execution_count": null,
   "id": "f85dc7ec",
   "metadata": {},
   "outputs": [],
   "source": [
    "for p in root_dir.walk('dm3'):\n",
    "    hs.load(p).plot()"
   ]
  },
  {
   "cell_type": "code",
   "execution_count": null,
   "id": "cc520b88",
   "metadata": {},
   "outputs": [],
   "source": []
  },
  {
   "cell_type": "code",
   "execution_count": null,
   "id": "2bd0deb9",
   "metadata": {},
   "outputs": [],
   "source": []
  },
  {
   "cell_type": "code",
   "execution_count": null,
   "id": "03f41346",
   "metadata": {},
   "outputs": [],
   "source": [
    "ibf_paths = Path('/dls/e02/data/2022/nt32759-1/processing/Merlin/P2').walk('ibf.jpg', max_depth=1)"
   ]
  },
  {
   "cell_type": "code",
   "execution_count": null,
   "id": "75ea1ac0",
   "metadata": {},
   "outputs": [],
   "source": [
    "ibf_paths"
   ]
  },
  {
   "cell_type": "code",
   "execution_count": null,
   "id": "1fe72dbe",
   "metadata": {},
   "outputs": [],
   "source": [
    "import imageio"
   ]
  },
  {
   "cell_type": "code",
   "execution_count": null,
   "id": "aacd9ca6",
   "metadata": {},
   "outputs": [],
   "source": [
    "for ibfp in ibf_paths:\n",
    "    plt.figure()\n",
    "    plt.imshow(imageio.imread(str(ibfp)))\n",
    "    plt.title(str(ibfp))"
   ]
  },
  {
   "cell_type": "code",
   "execution_count": null,
   "id": "18432b57",
   "metadata": {},
   "outputs": [],
   "source": []
  },
  {
   "cell_type": "code",
   "execution_count": null,
   "id": "6eb766e8",
   "metadata": {},
   "outputs": [],
   "source": [
    "hs.load(root_dir.walk('0034.dm3')[0]).plot()"
   ]
  },
  {
   "cell_type": "code",
   "execution_count": null,
   "id": "35fb4236",
   "metadata": {},
   "outputs": [],
   "source": [
    "plt.figure(figsize = (10,10))\n",
    "plt.imshow(stage_img)\n",
    "\n",
    "plt.scatter(full_fov_img_find[0], full_fov_img_find[1], c='red')\n",
    "plt.scatter(full_fov_img1[0], full_fov_img1[1], c='blue')\n",
    "plt.scatter(full_fov_img2[0], full_fov_img2[1], c='navy')\n",
    "plt.scatter(full_fov_img3[0], full_fov_img3[1], c='orange')\n",
    "plt.scatter(full_fov_img4[0], full_fov_img4[1], c='purple')\n",
    "\n",
    "for ind, trans_im_coord in enumerate(all_img_coords):\n",
    "    oneview_num = root_dir.walk('.dm3')[ind].parts[-1].split('.')[0].split('_')[-1]\n",
    "    \n",
    "    plt.scatter(trans_im_coord[0], trans_im_coord[1], c='green', alpha = 0.9)\n",
    "    plt.annotate(oneview_num, (trans_im_coord[0], trans_im_coord[1]), c = 'red', fontsize = 15)"
   ]
  },
  {
   "cell_type": "markdown",
   "id": "e9ab30f6",
   "metadata": {},
   "source": [
    "134905 == oneview 0046\n",
    "142950 == oneview 0034\n",
    "135446 == oneview 0047"
   ]
  },
  {
   "cell_type": "code",
   "execution_count": null,
   "id": "1184832a",
   "metadata": {},
   "outputs": [],
   "source": [
    "particle905 = [2603.1,2058.7]\n",
    "particle950 = [2566.0,2054.6]\n",
    "particle446 = [2609.1,2076.1]"
   ]
  },
  {
   "cell_type": "code",
   "execution_count": null,
   "id": "b5d8fb57",
   "metadata": {},
   "outputs": [],
   "source": []
  },
  {
   "cell_type": "code",
   "execution_count": null,
   "id": "2314fcd4",
   "metadata": {},
   "outputs": [],
   "source": [
    "md_path = Path('/dls/e02/data/2022/nt32759-1/processing/Merlin/P2').walk('.hdf', 'hdf5')"
   ]
  },
  {
   "cell_type": "code",
   "execution_count": null,
   "id": "c80d7961",
   "metadata": {},
   "outputs": [],
   "source": [
    "md_coords = [get_stage_pos_from_hdf(x) for x in md_path]"
   ]
  },
  {
   "cell_type": "code",
   "execution_count": null,
   "id": "99141395",
   "metadata": {},
   "outputs": [],
   "source": [
    "found_md_paths = [x for x in md_path if str(x).find('905') != -1 or str(x).find('950') != -1 or str(x).find('446') != -1 ]"
   ]
  },
  {
   "cell_type": "code",
   "execution_count": null,
   "id": "f2556640",
   "metadata": {},
   "outputs": [],
   "source": [
    "found_md_paths"
   ]
  },
  {
   "cell_type": "code",
   "execution_count": null,
   "id": "75f246ee",
   "metadata": {},
   "outputs": [],
   "source": [
    "reference_stage_coords = np.asarray((particle905, particle446, particle950))"
   ]
  },
  {
   "cell_type": "code",
   "execution_count": null,
   "id": "648beb0b",
   "metadata": {},
   "outputs": [],
   "source": [
    "plt.figure(figsize = (10,10))\n",
    "plt.imshow(stage_img)\n",
    "\n",
    "\n",
    "plt.scatter(reference_stage_coords[0,0], reference_stage_coords[0,1], c='blue')\n",
    "plt.scatter(reference_stage_coords[1,0], reference_stage_coords[1,1], c='green')\n",
    "plt.scatter(reference_stage_coords[2,0], reference_stage_coords[2,1], c='orange')\n",
    "#plt.scatter(reference_stage_coords[3,0], reference_stage_coords[3,1], c='red')\n",
    "#plt.scatter(reference_stage_coords[4,0], reference_stage_coords[4,1], c='purple')\n",
    "#plt.scatter(reference_stage_coords[5,0], reference_stage_coords[5,1], c='pink')\n",
    "#plt.scatter(reference_stage_coords[6,0], reference_stage_coords[6,1], c='brown')"
   ]
  },
  {
   "cell_type": "code",
   "execution_count": null,
   "id": "40bf54ec",
   "metadata": {},
   "outputs": [],
   "source": []
  },
  {
   "cell_type": "code",
   "execution_count": null,
   "id": "05804587",
   "metadata": {},
   "outputs": [],
   "source": []
  },
  {
   "cell_type": "code",
   "execution_count": null,
   "id": "3a608a8e",
   "metadata": {},
   "outputs": [],
   "source": []
  },
  {
   "cell_type": "code",
   "execution_count": null,
   "id": "2e4516d8",
   "metadata": {},
   "outputs": [],
   "source": [
    "found_particle_coords = np.asarray([get_stage_pos_from_hdf(x) for x in found_md_paths])"
   ]
  },
  {
   "cell_type": "code",
   "execution_count": null,
   "id": "6f0a5f91",
   "metadata": {},
   "outputs": [],
   "source": []
  },
  {
   "cell_type": "code",
   "execution_count": null,
   "id": "518026c7",
   "metadata": {},
   "outputs": [],
   "source": [
    "diff_trans, _ = regress_coord_affine_transform(found_particle_coords, reference_stage_coords)"
   ]
  },
  {
   "cell_type": "code",
   "execution_count": null,
   "id": "bb04b6eb",
   "metadata": {},
   "outputs": [],
   "source": [
    "diff_sample_locations = diff_trans(prep_coord_array(md_coords))"
   ]
  },
  {
   "cell_type": "code",
   "execution_count": null,
   "id": "1e42ccda",
   "metadata": {},
   "outputs": [],
   "source": []
  },
  {
   "cell_type": "code",
   "execution_count": null,
   "id": "707fb16a",
   "metadata": {},
   "outputs": [],
   "source": [
    "plt.figure(figsize = (10,10))\n",
    "plt.imshow(stage_img)\n",
    "\n",
    "for i, p in enumerate(md_path):\n",
    "    plt.scatter(diff_sample_locations[i,0], diff_sample_locations[i,1])\n",
    "    plt.annotate(p.parts[-1], (diff_sample_locations[i,0], diff_sample_locations[i,1]), c = 'red')"
   ]
  },
  {
   "cell_type": "code",
   "execution_count": null,
   "id": "ec2f7f95",
   "metadata": {},
   "outputs": [],
   "source": [
    "add_annotation_markers('/dls/science/groups/imaging/ePSIC_students/Andy_Bridger/I08LowMag/I08LowMag/P2Sample3/samplegridannotated.dm3')"
   ]
  },
  {
   "cell_type": "code",
   "execution_count": null,
   "id": "f7708099",
   "metadata": {},
   "outputs": [],
   "source": [
    "stage_sig = hs.signals.Signal2D(np.linalg.norm(stage_img, axis = -1))"
   ]
  },
  {
   "cell_type": "code",
   "execution_count": null,
   "id": "1563992b",
   "metadata": {},
   "outputs": [],
   "source": [
    "for i, p in enumerate(md_path):\n",
    "    pm = hs.plot.markers.point(diff_sample_locations[i,0], diff_sample_locations[i,1], color = 'red')\n",
    "    tm = hs.plot.markers.text(diff_sample_locations[i,0], diff_sample_locations[i,1],p.parts[-1], color = 'red', ha='center')\n",
    "    stage_sig.add_marker(pm,permanent=True)\n",
    "    stage_sig.add_marker(tm, permanent= True)\n"
   ]
  },
  {
   "cell_type": "code",
   "execution_count": null,
   "id": "53014ebf",
   "metadata": {},
   "outputs": [],
   "source": [
    "'/dls/e02/data/2022/nt32759-1/processing/Merlin/AnnotatedMaps/P2_samples.hdf5'"
   ]
  },
  {
   "cell_type": "code",
   "execution_count": null,
   "id": "42bea34f",
   "metadata": {},
   "outputs": [],
   "source": [
    "stage_sig.save('/dls/e02/data/2022/nt32759-1/processing/Merlin/AnnotatedMaps/P2_samples.hdf5')"
   ]
  },
  {
   "cell_type": "code",
   "execution_count": null,
   "id": "a06b9e43",
   "metadata": {},
   "outputs": [],
   "source": []
  },
  {
   "cell_type": "code",
   "execution_count": null,
   "id": "15f618b2",
   "metadata": {},
   "outputs": [],
   "source": []
  },
  {
   "cell_type": "code",
   "execution_count": null,
   "id": "d48af25f",
   "metadata": {},
   "outputs": [],
   "source": []
  }
 ],
 "metadata": {
  "kernelspec": {
   "display_name": "Python 3.7 - EPSIC [DLS Conda]",
   "language": "python",
   "name": "conda-env-DLS_Conda-epsic3.7-kernel.json"
  },
  "language_info": {
   "codemirror_mode": {
    "name": "ipython",
    "version": 3
   },
   "file_extension": ".py",
   "mimetype": "text/x-python",
   "name": "python",
   "nbconvert_exporter": "python",
   "pygments_lexer": "ipython3",
   "version": "3.7.6"
  }
 },
 "nbformat": 4,
 "nbformat_minor": 5
}
